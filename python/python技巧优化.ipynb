{
 "cells": [
  {
   "cell_type": "markdown",
   "metadata": {},
   "source": [
    "# python优化建议\n",
    "\n",
    "\n",
    "> ## 1. pythonic方式思考\n",
    "\n",
    "> ## 2. 函数\n",
    "\n",
    "> ## 3. 类与继承\n",
    "\n",
    "> ## 4. 元类及属性\n",
    "\n",
    "> ## 5. 并发及并行\n",
    "\n",
    "> ## 6. 内置模块\n",
    "\n",
    "> ## 7. 协作开发\n",
    "\n",
    "> ## 8. 部署"
   ]
  },
  {
   "cell_type": "markdown",
   "metadata": {},
   "source": [
    "> ## 1. pythonic方式思考\n",
    "\n",
    "- #### 确认自己的版本"
   ]
  },
  {
   "cell_type": "code",
   "execution_count": 1,
   "metadata": {
    "collapsed": false
   },
   "outputs": [
    {
     "name": "stdout",
     "output_type": "stream",
     "text": [
      "3.4.3 (default, Oct 14 2015, 20:28:29) \n",
      "[GCC 4.8.4]\n",
      "\n"
     ]
    }
   ],
   "source": [
    "import sys\n",
    "print(sys.version)\n",
    "print()"
   ]
  },
  {
   "cell_type": "markdown",
   "metadata": {},
   "source": [
    "- #### PEP8风格，尽量吧，不然会变成处女座的"
   ]
  },
  {
   "cell_type": "markdown",
   "metadata": {},
   "source": [
    "- #### 程序编码\n",
    "\n",
    "程序内部使用unicode，而外围不假设字符，需要进行解码和编码。python3中`str`默认就是unicode编码了"
   ]
  },
  {
   "cell_type": "code",
   "execution_count": 2,
   "metadata": {
    "collapsed": false
   },
   "outputs": [
    {
     "name": "stdout",
     "output_type": "stream",
     "text": [
      "123\n",
      "b'123'\n"
     ]
    }
   ],
   "source": [
    "a = \"123\"\n",
    "print(a)\n",
    "print(a.encode(\"utf-8\"))         # 转换成byte类型, ascil码"
   ]
  },
  {
   "cell_type": "markdown",
   "metadata": {},
   "source": [
    "python3读取文件默认是按照utf8字符读取的所以如果要和python2保持一致需要显性的指出用二进制读取文件"
   ]
  },
  {
   "cell_type": "code",
   "execution_count": 3,
   "metadata": {
    "collapsed": false
   },
   "outputs": [
    {
     "name": "stdout",
     "output_type": "stream",
     "text": [
      "b'\\n## A collection of notes\\n\\n\\nNothing, but write down what should be re-used\\n'\n",
      "----------using unicode way-------------\n",
      "\n",
      "## A collection of notes\n",
      "\n",
      "\n",
      "Nothing, but write down what should be re-used\n",
      "\n"
     ]
    }
   ],
   "source": [
    "with open(\"../README.md\", \"rb\") as f:\n",
    "  print(f.read(100))\n",
    "\n",
    "print(\"----------using unicode way-------------\")\n",
    "\n",
    "with open(\"../README.md\", \"r\") as f:\n",
    "  print(f.read(100))"
   ]
  },
  {
   "cell_type": "markdown",
   "metadata": {},
   "source": []
  },
  {
   "cell_type": "code",
   "execution_count": null,
   "metadata": {
    "collapsed": true
   },
   "outputs": [],
   "source": []
  }
 ],
 "metadata": {
  "kernelspec": {
   "display_name": "Python 3",
   "language": "python",
   "name": "python3"
  },
  "language_info": {
   "codemirror_mode": {
    "name": "ipython",
    "version": 3
   },
   "file_extension": ".py",
   "mimetype": "text/x-python",
   "name": "python",
   "nbconvert_exporter": "python",
   "pygments_lexer": "ipython3",
   "version": "3.4.3"
  }
 },
 "nbformat": 4,
 "nbformat_minor": 0
}
