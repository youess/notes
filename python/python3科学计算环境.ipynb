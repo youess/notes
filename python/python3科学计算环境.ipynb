{
 "cells": [
  {
   "cell_type": "markdown",
   "metadata": {},
   "source": [
    "## 利用anaconda管理python的科学计算环境\n",
    "\n",
    "[国内清华镜像地址][1]\n",
    "\n",
    "[1]: https://mirror.tuna.tsinghua.edu.cn/help/anaconda/"
   ]
  },
  {
   "cell_type": "markdown",
   "metadata": {},
   "source": [
    "## [theano installation](http://deeplearning.net/software/theano/install_windows.html#install-windows)\n",
    "\n",
    "`conda install mingw libpython` and `pip install theano`\n",
    "\n",
    "[安装流程stackflow](http://stackoverflow.com/questions/34097988/how-do-i-install-keras-and-theano-in-anaconda-python-2-7-on-windows)\n",
    "\n",
    "## keras\n",
    "\n",
    "`pip install keras`\n",
    "\n",
    "### [深度学习介绍](http://deeplearning.net/tutorial/)"
   ]
  }
 ],
 "metadata": {
  "kernelspec": {
   "display_name": "Python 3",
   "language": "python",
   "name": "python3"
  },
  "language_info": {
   "codemirror_mode": {
    "name": "ipython",
    "version": 3
   },
   "file_extension": ".py",
   "mimetype": "text/x-python",
   "name": "python",
   "nbconvert_exporter": "python",
   "pygments_lexer": "ipython3",
   "version": "3.5.1"
  }
 },
 "nbformat": 4,
 "nbformat_minor": 0
}
