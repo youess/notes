{
 "cells": [
  {
   "cell_type": "markdown",
   "metadata": {},
   "source": [
    "## 利用anaconda管理python的科学计算环境\n",
    "\n",
    "[国内清华镜像地址][1]\n",
    "\n",
    "## 工具包\n",
    "\n",
    "- [numpy][2], [note](http://reverland.org/python/2012/08/22/numpy/)\n",
    "- [scipy][3], [note](http://reverland.org/python/2012/08/24/scipy/)\n",
    "- [matplotlib][4]\n",
    "- [pandas][5]\n",
    "- [statsmodels][6]\n",
    "- [scikit-learn][7]\n",
    "- [keras][8]\n",
    "- [gensim][9]\n",
    "\n",
    "[1]: https://mirror.tuna.tsinghua.edu.cn/help/anaconda/\n",
    "[2]: http://www.numpy.org/\n",
    "[3]: http://www.scipy.org/\n",
    "[4]: http://www.matplotlib.org/\n",
    "[5]: http://statsmodels.sourceforge.net/stable/index.html\n",
    "[6]: http://statsmodels.sourceforge.net/stable/index.html\n",
    "[7]: http://scikit-learn.og/\n",
    "[8]: https://github.com/fchollet/keras\n",
    "[9]: http://radimrehurek.com/gensim/"
   ]
  },
  {
   "cell_type": "markdown",
   "metadata": {},
   "source": [
    "## [theano installation](http://deeplearning.net/software/theano/install_windows.html#install-windows)\n",
    "\n",
    "`conda install mingw libpython` and `pip install theano`\n",
    "\n",
    "[安装流程stackflow](http://stackoverflow.com/questions/34097988/how-do-i-install-keras-and-theano-in-anaconda-python-2-7-on-windows)\n",
    "\n",
    "## keras\n",
    "\n",
    "`pip install keras`\n",
    "\n",
    "### [深度学习介绍](http://deeplearning.net/tutorial/)"
   ]
  }
 ],
 "metadata": {
  "kernelspec": {
   "display_name": "Python 3",
   "language": "python",
   "name": "python3"
  },
  "language_info": {
   "codemirror_mode": {
    "name": "ipython",
    "version": 3
   },
   "file_extension": ".py",
   "mimetype": "text/x-python",
   "name": "python",
   "nbconvert_exporter": "python",
   "pygments_lexer": "ipython3",
   "version": "3.5.1"
  }
 },
 "nbformat": 4,
 "nbformat_minor": 0
}
